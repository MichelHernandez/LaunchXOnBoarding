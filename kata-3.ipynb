{
 "cells": [
  {
   "cell_type": "markdown",
   "metadata": {},
   "source": [
    "# Kata 3"
   ]
  },
  {
   "cell_type": "code",
   "execution_count": 1,
   "metadata": {},
   "outputs": [
    {
     "name": "stdout",
     "output_type": "stream",
     "text": [
      "Un astroide se acerca rápidamente a la Tierra\n"
     ]
    }
   ],
   "source": [
    "velocidad_asteroide_km_s = 49\n",
    "\n",
    "if velocidad_asteroide_km_s > 25:\n",
    "    print('Un astroide se acerca rápidamente a la Tierra')\n",
    "else:\n",
    "    print('Estamos seguros, no se acercan asteroides')"
   ]
  },
  {
   "cell_type": "code",
   "execution_count": 2,
   "metadata": {},
   "outputs": [
    {
     "name": "stdout",
     "output_type": "stream",
     "text": [
      "Ahora está pasando un asteroide pero no es visible\n"
     ]
    }
   ],
   "source": [
    "velocidad_asteroide = 19\n",
    "\n",
    "if velocidad_asteroide >= 20:\n",
    "    print('Es hora de buscar un asteroide en el cielo, tal vez puedas verlo pasar')\n",
    "else:\n",
    "    print('Ahora está pasando un asteroide pero no es visible')"
   ]
  },
  {
   "cell_type": "code",
   "execution_count": 3,
   "metadata": {},
   "outputs": [
    {
     "name": "stdout",
     "output_type": "stream",
     "text": [
      "¡Peligro! Hay un gran asteroide acercandose a la Tierra, ¡Pero no es visible!\n"
     ]
    }
   ],
   "source": [
    "velocidad_asteroide = 5\n",
    "tamanio_asteroide = 777\n",
    "\n",
    "if tamanio_asteroide > 25 and tamanio_asteroide < 1000:\n",
    "    if velocidad_asteroide > 25:\n",
    "        print('¡Peligro! Hay un gran asteroide acercandose rápidamente a la Tierra, ¡Puedes verlo pasar!')\n",
    "    elif velocidad_asteroide >= 20:\n",
    "        print('¡Peligro! Hay un gran asteroide acercandose a la Tierra, ¡Puedes verlo pasar!')\n",
    "    else:\n",
    "        print('¡Peligro! Hay un gran asteroide acercandose a la Tierra, ¡Pero no es visible!')\n",
    "else:\n",
    "    print('Se acerca un asteroide, pero no representa un peligro')"
   ]
  }
 ],
 "metadata": {
  "interpreter": {
   "hash": "2be5faf79681da6f2a61fdfdd5405d65d042280f7fba6178067603e3a2925119"
  },
  "kernelspec": {
   "display_name": "Python 3.10.0 64-bit",
   "language": "python",
   "name": "python3"
  },
  "language_info": {
   "codemirror_mode": {
    "name": "ipython",
    "version": 3
   },
   "file_extension": ".py",
   "mimetype": "text/x-python",
   "name": "python",
   "nbconvert_exporter": "python",
   "pygments_lexer": "ipython3",
   "version": "3.10.0"
  },
  "orig_nbformat": 4
 },
 "nbformat": 4,
 "nbformat_minor": 2
}
