{
 "cells": [
  {
   "cell_type": "markdown",
   "metadata": {},
   "source": [
    "# Kata 9\n",
    "## Ejercicio 1: Trabajar con argumentos en funciones"
   ]
  },
  {
   "cell_type": "code",
   "execution_count": 4,
   "metadata": {},
   "outputs": [
    {
     "name": "stdout",
     "output_type": "stream",
     "text": [
      "Información sobre combustible\n",
      "Tanque 1: 0\n",
      "Tanque 2: 0\n",
      "Tanque 3: 0\n",
      "El promedio de los tres tanques: 0.0\n"
     ]
    }
   ],
   "source": [
    "# Función para leer 3 tanques de combustible y muestre el promedio\n",
    "def informe_combustible(tanque_1, tanque_2, tanque_3):\n",
    "    return f\"\"\"Información sobre combustible\n",
    "Tanque 1: {tanque_1}\n",
    "Tanque 2: {tanque_2}\n",
    "Tanque 3: {tanque_3}\n",
    "El promedio de los tres tanques: \"\"\" + str((tanque_1 + tanque_2 + tanque_3) / 3)\n",
    "\n",
    "# Llamamos a la función que genera el reporte print(funcion(tanque1, tanque2, tanque3))\n",
    "print(informe_combustible(0, 0, 0))\n"
   ]
  },
  {
   "cell_type": "code",
   "execution_count": 5,
   "metadata": {},
   "outputs": [
    {
     "name": "stdout",
     "output_type": "stream",
     "text": [
      "Información sobre combustible\n",
      "Tanque 1: 10\n",
      "Tanque 2: 10\n",
      "Tanque 3: 9\n",
      "El promedio de los tres tanques: 9.666666666666666\n"
     ]
    }
   ],
   "source": [
    "# Función promedio \n",
    "def promedio(cantidad1, cantidad2, cantidad3):\n",
    "    return (cantidad1 + cantidad2 + cantidad3) / 3\n",
    "\n",
    "# Actualiza la función\n",
    "def informe_combustible2(tanque_1, tanque_2, tanque_3):\n",
    "    return f\"\"\"Información sobre combustible\n",
    "Tanque 1: {tanque_1}\n",
    "Tanque 2: {tanque_2}\n",
    "Tanque 3: {tanque_3}\n",
    "El promedio de los tres tanques: \"\"\" + str(promedio(tanque_1, tanque_2, tanque_3))\n",
    "\n",
    "print(informe_combustible2(10, 10, 9))\n"
   ]
  },
  {
   "cell_type": "markdown",
   "metadata": {},
   "source": [
    "## Ejercicio 2: Trabajo con argumentos de palabra clave en funciones"
   ]
  },
  {
   "cell_type": "code",
   "execution_count": 9,
   "metadata": {},
   "outputs": [
    {
     "name": "stdout",
     "output_type": "stream",
     "text": [
      "Informe de la misión\n",
      "Hora de lanzamiento: 13\n",
      "Tiempo de vuelo:     15\n",
      "Destino:             Jupiter\n",
      "Tanque externo:      1\n",
      "Tanque interno:      1\n",
      "    \n"
     ]
    }
   ],
   "source": [
    "# Función con un informe preciso de la misión. Considera hora de prelanzamiento, tiempo de vuelo, destino, tanque externo y tanque interno\n",
    "def informe_mision(hr_prelanzamiento = 12, tiempo_vuelo_hrs = 15, destino = 'Jupiter', tanque_externo = 1, tanque_interno = 1):\n",
    "    return f\"\"\"Informe de la misión\n",
    "Hora de lanzamiento: {hr_prelanzamiento}\n",
    "Tiempo de vuelo:     {tiempo_vuelo_hrs}\n",
    "Destino:             {destino}\n",
    "Tanque externo:      {tanque_externo}\n",
    "Tanque interno:      {tanque_interno}\n",
    "    \"\"\"\n",
    "\n",
    "print(informe_mision(13))"
   ]
  },
  {
   "cell_type": "code",
   "execution_count": 34,
   "metadata": {},
   "outputs": [
    {
     "name": "stdout",
     "output_type": "stream",
     "text": [
      "Informe de la misión a Jupiter\n",
      "Total de tiempo de la misión: 45\n",
      "Reserva de combustible: {'externo': 1, 'interno': 2}\n",
      "\n",
      "Informe de la misión a Jupiter\n",
      "Total de tiempo de la misión: 45\n",
      "Reserva de combustible: \n",
      "Tanque externo: 1\n",
      "Tanque interno: 2\n",
      "\n"
     ]
    }
   ],
   "source": [
    "# Escribe tu nueva función de reporte considerando lo anterior\n",
    "def informe_mision2(destino, *minutos, **tanques):\n",
    "    return f\"\"\"Informe de la misión a {destino}\n",
    "Total de tiempo de la misión: {sum(minutos)}\n",
    "Reserva de combustible: {tanques}\n",
    "\"\"\"\n",
    "print(informe_mision2('Jupiter', 13, 15, 17, externo = 1, interno = 2))\n",
    "\n",
    "# Escribe tu nueva función\n",
    "def informe_mision3(destino, *minutos, **tanques):\n",
    "    cadena = ''\n",
    "    for key, value in tanques.items():\n",
    "        cadena += f'\\nTanque {key}: {value}'\n",
    "    return f\"\"\"Informe de la misión a {destino}\n",
    "Total de tiempo de la misión: {sum(minutos)}\n",
    "Reserva de combustible: {cadena}\n",
    "\"\"\"\n",
    "print(informe_mision3('Jupiter', 13, 15, 17, externo = 1, interno = 2))\n"
   ]
  }
 ],
 "metadata": {
  "interpreter": {
   "hash": "2be5faf79681da6f2a61fdfdd5405d65d042280f7fba6178067603e3a2925119"
  },
  "kernelspec": {
   "display_name": "Python 3.10.0 64-bit",
   "language": "python",
   "name": "python3"
  },
  "language_info": {
   "codemirror_mode": {
    "name": "ipython",
    "version": 3
   },
   "file_extension": ".py",
   "mimetype": "text/x-python",
   "name": "python",
   "nbconvert_exporter": "python",
   "pygments_lexer": "ipython3",
   "version": "3.10.0"
  },
  "orig_nbformat": 4
 },
 "nbformat": 4,
 "nbformat_minor": 2
}
